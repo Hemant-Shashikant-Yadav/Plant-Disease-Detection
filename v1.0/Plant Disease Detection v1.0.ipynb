{
 "cells": [
  {
   "cell_type": "code",
   "execution_count": 1,
   "id": "8c1f47e2",
   "metadata": {},
   "outputs": [],
   "source": [
    "import matplotlib.pyplot as plt\n",
    "import numpy as np\n",
    "import cv2\n",
    "import os\n",
    "import PIL\n",
    "import tensorflow as tf\n",
    "\n",
    "from tensorflow import keras"
   ]
  },
  {
   "cell_type": "code",
   "execution_count": 2,
   "id": "377fb956",
   "metadata": {},
   "outputs": [],
   "source": [
    "from tensorflow.keras import models, layers"
   ]
  },
  {
   "cell_type": "code",
   "execution_count": 3,
   "id": "22623e59",
   "metadata": {},
   "outputs": [
    {
     "data": {
      "text/plain": [
       "'2.8.3'"
      ]
     },
     "execution_count": 3,
     "metadata": {},
     "output_type": "execute_result"
    }
   ],
   "source": [
    "tf.__version__"
   ]
  },
  {
   "cell_type": "code",
   "execution_count": 4,
   "id": "eabdb2b6",
   "metadata": {},
   "outputs": [],
   "source": [
    "#img = 256 x 256\n",
    "#batch 32 "
   ]
  },
  {
   "cell_type": "code",
   "execution_count": 5,
   "id": "e58ea327",
   "metadata": {},
   "outputs": [
    {
     "name": "stdout",
     "output_type": "stream",
     "text": [
      "Found 70295 files belonging to 38 classes.\n"
     ]
    }
   ],
   "source": [
    "dataset = tf.keras.preprocessing.image_dataset_from_directory(\n",
    "    \"dataset/PlantDiseasesDataset/train\",\n",
    "    shuffle=True,\n",
    "    image_size=(256,256),\n",
    "    batch_size= 32\n",
    ")"
   ]
  },
  {
   "cell_type": "code",
   "execution_count": 6,
   "id": "26a70221",
   "metadata": {},
   "outputs": [
    {
     "data": {
      "text/plain": [
       "['Apple___Apple_scab',\n",
       " 'Apple___Black_rot',\n",
       " 'Apple___Cedar_apple_rust',\n",
       " 'Apple___healthy',\n",
       " 'Blueberry___healthy',\n",
       " 'Cherry_(including_sour)___Powdery_mildew',\n",
       " 'Cherry_(including_sour)___healthy',\n",
       " 'Corn_(maize)___Cercospora_leaf_spot Gray_leaf_spot',\n",
       " 'Corn_(maize)___Common_rust_',\n",
       " 'Corn_(maize)___Northern_Leaf_Blight',\n",
       " 'Corn_(maize)___healthy',\n",
       " 'Grape___Black_rot',\n",
       " 'Grape___Esca_(Black_Measles)',\n",
       " 'Grape___Leaf_blight_(Isariopsis_Leaf_Spot)',\n",
       " 'Grape___healthy',\n",
       " 'Orange___Haunglongbing_(Citrus_greening)',\n",
       " 'Peach___Bacterial_spot',\n",
       " 'Peach___healthy',\n",
       " 'Pepper,_bell___Bacterial_spot',\n",
       " 'Pepper,_bell___healthy',\n",
       " 'Potato___Early_blight',\n",
       " 'Potato___Late_blight',\n",
       " 'Potato___healthy',\n",
       " 'Raspberry___healthy',\n",
       " 'Soybean___healthy',\n",
       " 'Squash___Powdery_mildew',\n",
       " 'Strawberry___Leaf_scorch',\n",
       " 'Strawberry___healthy',\n",
       " 'Tomato___Bacterial_spot',\n",
       " 'Tomato___Early_blight',\n",
       " 'Tomato___Late_blight',\n",
       " 'Tomato___Leaf_Mold',\n",
       " 'Tomato___Septoria_leaf_spot',\n",
       " 'Tomato___Spider_mites Two-spotted_spider_mite',\n",
       " 'Tomato___Target_Spot',\n",
       " 'Tomato___Tomato_Yellow_Leaf_Curl_Virus',\n",
       " 'Tomato___Tomato_mosaic_virus',\n",
       " 'Tomato___healthy']"
      ]
     },
     "execution_count": 6,
     "metadata": {},
     "output_type": "execute_result"
    }
   ],
   "source": [
    "className = dataset.class_names\n",
    "className"
   ]
  },
  {
   "cell_type": "code",
   "execution_count": 7,
   "id": "bb283919",
   "metadata": {
    "scrolled": true
   },
   "outputs": [
    {
     "data": {
      "text/plain": [
       "2197"
      ]
     },
     "execution_count": 7,
     "metadata": {},
     "output_type": "execute_result"
    }
   ],
   "source": [
    "len(dataset)"
   ]
  },
  {
   "cell_type": "code",
   "execution_count": 8,
   "id": "447a52e7",
   "metadata": {},
   "outputs": [
    {
     "name": "stdout",
     "output_type": "stream",
     "text": [
      "(32, 256, 256, 3)\n",
      "[ 5  8  7  9 32 14  8  8 19 10 13 31  3  4  6 16 30 22 30 18 29  6  9 33\n",
      "  5  5 29 29 19  6  4 10]\n"
     ]
    }
   ],
   "source": [
    "for imgBatch, lableBatch in dataset.take(1):\n",
    "    print(imgBatch.shape)\n",
    "    print(lableBatch.numpy())"
   ]
  },
  {
   "cell_type": "code",
   "execution_count": 9,
   "id": "2a968874",
   "metadata": {},
   "outputs": [
    {
     "name": "stdout",
     "output_type": "stream",
     "text": [
      "tf.Tensor(\n",
      "[[[188. 194. 210.]\n",
      "  [190. 196. 212.]\n",
      "  [194. 200. 216.]\n",
      "  ...\n",
      "  [107. 105. 119.]\n",
      "  [127. 125. 139.]\n",
      "  [126. 124. 138.]]\n",
      "\n",
      " [[196. 202. 218.]\n",
      "  [197. 203. 219.]\n",
      "  [199. 205. 221.]\n",
      "  ...\n",
      "  [122. 120. 134.]\n",
      "  [131. 129. 143.]\n",
      "  [120. 118. 132.]]\n",
      "\n",
      " [[197. 203. 219.]\n",
      "  [198. 204. 220.]\n",
      "  [199. 205. 221.]\n",
      "  ...\n",
      "  [127. 125. 139.]\n",
      "  [123. 121. 135.]\n",
      "  [100.  98. 112.]]\n",
      "\n",
      " ...\n",
      "\n",
      " [[155. 162. 178.]\n",
      "  [153. 160. 176.]\n",
      "  [152. 159. 175.]\n",
      "  ...\n",
      "  [123. 125. 137.]\n",
      "  [121. 123. 135.]\n",
      "  [142. 144. 156.]]\n",
      "\n",
      " [[155. 162. 178.]\n",
      "  [155. 162. 178.]\n",
      "  [154. 161. 177.]\n",
      "  ...\n",
      "  [137. 139. 151.]\n",
      "  [129. 131. 143.]\n",
      "  [147. 149. 161.]]\n",
      "\n",
      " [[149. 156. 172.]\n",
      "  [149. 156. 172.]\n",
      "  [150. 157. 173.]\n",
      "  ...\n",
      "  [143. 145. 157.]\n",
      "  [127. 129. 141.]\n",
      "  [139. 141. 153.]]], shape=(256, 256, 3), dtype=float32)\n",
      "[[[188. 194. 210.]\n",
      "  [190. 196. 212.]\n",
      "  [194. 200. 216.]\n",
      "  ...\n",
      "  [107. 105. 119.]\n",
      "  [127. 125. 139.]\n",
      "  [126. 124. 138.]]\n",
      "\n",
      " [[196. 202. 218.]\n",
      "  [197. 203. 219.]\n",
      "  [199. 205. 221.]\n",
      "  ...\n",
      "  [122. 120. 134.]\n",
      "  [131. 129. 143.]\n",
      "  [120. 118. 132.]]\n",
      "\n",
      " [[197. 203. 219.]\n",
      "  [198. 204. 220.]\n",
      "  [199. 205. 221.]\n",
      "  ...\n",
      "  [127. 125. 139.]\n",
      "  [123. 121. 135.]\n",
      "  [100.  98. 112.]]\n",
      "\n",
      " ...\n",
      "\n",
      " [[155. 162. 178.]\n",
      "  [153. 160. 176.]\n",
      "  [152. 159. 175.]\n",
      "  ...\n",
      "  [123. 125. 137.]\n",
      "  [121. 123. 135.]\n",
      "  [142. 144. 156.]]\n",
      "\n",
      " [[155. 162. 178.]\n",
      "  [155. 162. 178.]\n",
      "  [154. 161. 177.]\n",
      "  ...\n",
      "  [137. 139. 151.]\n",
      "  [129. 131. 143.]\n",
      "  [147. 149. 161.]]\n",
      "\n",
      " [[149. 156. 172.]\n",
      "  [149. 156. 172.]\n",
      "  [150. 157. 173.]\n",
      "  ...\n",
      "  [143. 145. 157.]\n",
      "  [127. 129. 141.]\n",
      "  [139. 141. 153.]]]\n",
      "(256, 256, 3)\n"
     ]
    }
   ],
   "source": [
    "for imgBatch, lableBatch in dataset.take(1):\n",
    "    print(imgBatch[0])\n",
    "    print(imgBatch[0].numpy())\n",
    "    print(imgBatch[0].shape)"
   ]
  },
  {
   "cell_type": "code",
   "execution_count": 10,
   "id": "9a8d6c77",
   "metadata": {},
   "outputs": [],
   "source": [
    "trainDataset = dataset"
   ]
  },
  {
   "cell_type": "code",
   "execution_count": 11,
   "id": "d7bd66b0",
   "metadata": {},
   "outputs": [
    {
     "data": {
      "text/plain": [
       "2197"
      ]
     },
     "execution_count": 11,
     "metadata": {},
     "output_type": "execute_result"
    }
   ],
   "source": [
    "len(trainDataset)"
   ]
  },
  {
   "cell_type": "code",
   "execution_count": null,
   "id": "68c51f15",
   "metadata": {},
   "outputs": [],
   "source": []
  },
  {
   "cell_type": "code",
   "execution_count": 12,
   "id": "02088415",
   "metadata": {},
   "outputs": [
    {
     "name": "stdout",
     "output_type": "stream",
     "text": [
      "Found 17572 files belonging to 38 classes.\n"
     ]
    }
   ],
   "source": [
    "dataset1 = tf.keras.preprocessing.image_dataset_from_directory(\n",
    "    \"dataset/PlantDiseasesDataset/valid\",\n",
    "    shuffle=True,\n",
    "    image_size=(256,256),\n",
    "    batch_size= 32\n",
    ")"
   ]
  },
  {
   "cell_type": "code",
   "execution_count": 13,
   "id": "1b1d9033",
   "metadata": {},
   "outputs": [
    {
     "data": {
      "text/plain": [
       "550"
      ]
     },
     "execution_count": 13,
     "metadata": {},
     "output_type": "execute_result"
    }
   ],
   "source": [
    "len(dataset1)"
   ]
  },
  {
   "cell_type": "code",
   "execution_count": 14,
   "id": "fcbdc884",
   "metadata": {},
   "outputs": [
    {
     "data": {
      "text/plain": [
       "['Apple___Apple_scab',\n",
       " 'Apple___Black_rot',\n",
       " 'Apple___Cedar_apple_rust',\n",
       " 'Apple___healthy',\n",
       " 'Blueberry___healthy',\n",
       " 'Cherry_(including_sour)___Powdery_mildew',\n",
       " 'Cherry_(including_sour)___healthy',\n",
       " 'Corn_(maize)___Cercospora_leaf_spot Gray_leaf_spot',\n",
       " 'Corn_(maize)___Common_rust_',\n",
       " 'Corn_(maize)___Northern_Leaf_Blight',\n",
       " 'Corn_(maize)___healthy',\n",
       " 'Grape___Black_rot',\n",
       " 'Grape___Esca_(Black_Measles)',\n",
       " 'Grape___Leaf_blight_(Isariopsis_Leaf_Spot)',\n",
       " 'Grape___healthy',\n",
       " 'Orange___Haunglongbing_(Citrus_greening)',\n",
       " 'Peach___Bacterial_spot',\n",
       " 'Peach___healthy',\n",
       " 'Pepper,_bell___Bacterial_spot',\n",
       " 'Pepper,_bell___healthy',\n",
       " 'Potato___Early_blight',\n",
       " 'Potato___Late_blight',\n",
       " 'Potato___healthy',\n",
       " 'Raspberry___healthy',\n",
       " 'Soybean___healthy',\n",
       " 'Squash___Powdery_mildew',\n",
       " 'Strawberry___Leaf_scorch',\n",
       " 'Strawberry___healthy',\n",
       " 'Tomato___Bacterial_spot',\n",
       " 'Tomato___Early_blight',\n",
       " 'Tomato___Late_blight',\n",
       " 'Tomato___Leaf_Mold',\n",
       " 'Tomato___Septoria_leaf_spot',\n",
       " 'Tomato___Spider_mites Two-spotted_spider_mite',\n",
       " 'Tomato___Target_Spot',\n",
       " 'Tomato___Tomato_Yellow_Leaf_Curl_Virus',\n",
       " 'Tomato___Tomato_mosaic_virus',\n",
       " 'Tomato___healthy']"
      ]
     },
     "execution_count": 14,
     "metadata": {},
     "output_type": "execute_result"
    }
   ],
   "source": [
    "className1 = dataset1.class_names\n",
    "className1"
   ]
  },
  {
   "cell_type": "code",
   "execution_count": 15,
   "id": "d8b60dee",
   "metadata": {},
   "outputs": [
    {
     "data": {
      "text/plain": [
       "550"
      ]
     },
     "execution_count": 15,
     "metadata": {},
     "output_type": "execute_result"
    }
   ],
   "source": [
    "len(dataset1)"
   ]
  },
  {
   "cell_type": "code",
   "execution_count": 16,
   "id": "542764eb",
   "metadata": {},
   "outputs": [],
   "source": [
    "validDataset = dataset1"
   ]
  },
  {
   "cell_type": "code",
   "execution_count": null,
   "id": "b2c16b1a",
   "metadata": {},
   "outputs": [],
   "source": []
  },
  {
   "cell_type": "code",
   "execution_count": 17,
   "id": "a78601a5",
   "metadata": {},
   "outputs": [
    {
     "name": "stdout",
     "output_type": "stream",
     "text": [
      "Found 33 files belonging to 1 classes.\n"
     ]
    }
   ],
   "source": [
    "dataset2 = tf.keras.preprocessing.image_dataset_from_directory(\n",
    "    \"dataset/test\",\n",
    "    shuffle=True,\n",
    "    image_size=(256,256),\n",
    "    batch_size= 32\n",
    ")"
   ]
  },
  {
   "cell_type": "code",
   "execution_count": 18,
   "id": "9cca5f40",
   "metadata": {},
   "outputs": [
    {
     "data": {
      "text/plain": [
       "2"
      ]
     },
     "execution_count": 18,
     "metadata": {},
     "output_type": "execute_result"
    }
   ],
   "source": [
    "len(dataset2)"
   ]
  },
  {
   "cell_type": "code",
   "execution_count": 19,
   "id": "e2a9bb60",
   "metadata": {},
   "outputs": [
    {
     "data": {
      "text/plain": [
       "['test']"
      ]
     },
     "execution_count": 19,
     "metadata": {},
     "output_type": "execute_result"
    }
   ],
   "source": [
    "className2 = dataset2.class_names\n",
    "className2"
   ]
  },
  {
   "cell_type": "code",
   "execution_count": 20,
   "id": "008b207b",
   "metadata": {},
   "outputs": [
    {
     "data": {
      "text/plain": [
       "2"
      ]
     },
     "execution_count": 20,
     "metadata": {},
     "output_type": "execute_result"
    }
   ],
   "source": [
    "len(dataset2)"
   ]
  },
  {
   "cell_type": "code",
   "execution_count": 21,
   "id": "a5c5ace9",
   "metadata": {},
   "outputs": [],
   "source": [
    "testDataset = dataset2"
   ]
  },
  {
   "cell_type": "code",
   "execution_count": null,
   "id": "13eb4a64",
   "metadata": {},
   "outputs": [],
   "source": []
  },
  {
   "cell_type": "code",
   "execution_count": 22,
   "id": "9fabcec8",
   "metadata": {},
   "outputs": [],
   "source": [
    "trainDataset = trainDataset.cache().shuffle(1000).prefetch(buffer_size=tf.data.AUTOTUNE)\n",
    "validDataset = validDataset.cache().shuffle(1000).prefetch(buffer_size=tf.data.AUTOTUNE)\n",
    "testDataset = testDataset.cache().shuffle(1000).prefetch(buffer_size=tf.data.AUTOTUNE)"
   ]
  },
  {
   "cell_type": "code",
   "execution_count": null,
   "id": "39416a90",
   "metadata": {},
   "outputs": [],
   "source": []
  },
  {
   "cell_type": "code",
   "execution_count": 23,
   "id": "cd8fdd7d",
   "metadata": {},
   "outputs": [],
   "source": [
    "resize_rescale = tf.keras.Sequential([\n",
    "        \n",
    "    layers.experimental.preprocessing.Resizing(256,256),\n",
    "    layers.experimental.preprocessing.Rescaling(1.0/255),   \n",
    "])"
   ]
  },
  {
   "cell_type": "code",
   "execution_count": 24,
   "id": "7e9542b9",
   "metadata": {},
   "outputs": [],
   "source": [
    "data_augmentation = tf.keras.Sequential([\n",
    "    layers.experimental.preprocessing.RandomFlip(\"horizontal_and_vertical\"),\n",
    "    layers.experimental.preprocessing.RandomRotation(0.2),\n",
    "])"
   ]
  },
  {
   "cell_type": "code",
   "execution_count": 27,
   "id": "2d28c30c",
   "metadata": {},
   "outputs": [],
   "source": [
    "model = models.Sequential([\n",
    "    resize_rescale,\n",
    "    data_augmentation,\n",
    "    \n",
    "    layers.Conv2D(32,(3,3),activation='relu',input_shape = (32,256, 256, 3)),\n",
    "    layers.MaxPool2D((2,2)),\n",
    "    \n",
    "    layers.Conv2D(64,kernel_size=(3,3),activation='relu'),\n",
    "    layers.MaxPool2D((2,2)),\n",
    "    \n",
    "    layers.Conv2D(64,(3,3),activation='relu'),\n",
    "    layers.MaxPool2D((2,2)),\n",
    "    \n",
    "    layers.Conv2D(64,(3,3),activation='relu'),\n",
    "    layers.MaxPool2D((2,2)),\n",
    "    \n",
    "    layers.Conv2D(64,(3,3),activation='relu'),\n",
    "    layers.MaxPool2D((2,2)),\n",
    "    \n",
    "    layers.Conv2D(64,(3,3),activation='relu'),\n",
    "    layers.MaxPool2D((2,2)),\n",
    "    \n",
    "    layers.Flatten(),\n",
    "    \n",
    "    layers.Dense(64,activation='relu'),\n",
    "    \n",
    "    layers.Dense(38,activation='softmax'),\n",
    "])"
   ]
  },
  {
   "cell_type": "code",
   "execution_count": 28,
   "id": "4c31c7c2",
   "metadata": {
    "scrolled": true
   },
   "outputs": [],
   "source": [
    "model.build((32,256, 256, 3))"
   ]
  },
  {
   "cell_type": "code",
   "execution_count": 29,
   "id": "bbae0a30",
   "metadata": {},
   "outputs": [
    {
     "name": "stdout",
     "output_type": "stream",
     "text": [
      "Model: \"sequential_3\"\n",
      "_________________________________________________________________\n",
      " Layer (type)                Output Shape              Param #   \n",
      "=================================================================\n",
      " sequential (Sequential)     (32, 256, 256, 3)         0         \n",
      "                                                                 \n",
      " sequential_1 (Sequential)   (32, 256, 256, 3)         0         \n",
      "                                                                 \n",
      " conv2d_6 (Conv2D)           (32, 254, 254, 32)        896       \n",
      "                                                                 \n",
      " max_pooling2d_6 (MaxPooling  (32, 127, 127, 32)       0         \n",
      " 2D)                                                             \n",
      "                                                                 \n",
      " conv2d_7 (Conv2D)           (32, 125, 125, 64)        18496     \n",
      "                                                                 \n",
      " max_pooling2d_7 (MaxPooling  (32, 62, 62, 64)         0         \n",
      " 2D)                                                             \n",
      "                                                                 \n",
      " conv2d_8 (Conv2D)           (32, 60, 60, 64)          36928     \n",
      "                                                                 \n",
      " max_pooling2d_8 (MaxPooling  (32, 30, 30, 64)         0         \n",
      " 2D)                                                             \n",
      "                                                                 \n",
      " conv2d_9 (Conv2D)           (32, 28, 28, 64)          36928     \n",
      "                                                                 \n",
      " max_pooling2d_9 (MaxPooling  (32, 14, 14, 64)         0         \n",
      " 2D)                                                             \n",
      "                                                                 \n",
      " conv2d_10 (Conv2D)          (32, 12, 12, 64)          36928     \n",
      "                                                                 \n",
      " max_pooling2d_10 (MaxPoolin  (32, 6, 6, 64)           0         \n",
      " g2D)                                                            \n",
      "                                                                 \n",
      " conv2d_11 (Conv2D)          (32, 4, 4, 64)            36928     \n",
      "                                                                 \n",
      " max_pooling2d_11 (MaxPoolin  (32, 2, 2, 64)           0         \n",
      " g2D)                                                            \n",
      "                                                                 \n",
      " flatten_1 (Flatten)         (32, 256)                 0         \n",
      "                                                                 \n",
      " dense_2 (Dense)             (32, 64)                  16448     \n",
      "                                                                 \n",
      " dense_3 (Dense)             (32, 38)                  2470      \n",
      "                                                                 \n",
      "=================================================================\n",
      "Total params: 186,022\n",
      "Trainable params: 186,022\n",
      "Non-trainable params: 0\n",
      "_________________________________________________________________\n"
     ]
    }
   ],
   "source": [
    "model.summary()"
   ]
  },
  {
   "cell_type": "code",
   "execution_count": null,
   "id": "651b8a9f",
   "metadata": {},
   "outputs": [],
   "source": []
  }
 ],
 "metadata": {
  "kernelspec": {
   "display_name": "Python 3 (ipykernel)",
   "language": "python",
   "name": "python3"
  },
  "language_info": {
   "codemirror_mode": {
    "name": "ipython",
    "version": 3
   },
   "file_extension": ".py",
   "mimetype": "text/x-python",
   "name": "python",
   "nbconvert_exporter": "python",
   "pygments_lexer": "ipython3",
   "version": "3.10.12"
  }
 },
 "nbformat": 4,
 "nbformat_minor": 5
}
