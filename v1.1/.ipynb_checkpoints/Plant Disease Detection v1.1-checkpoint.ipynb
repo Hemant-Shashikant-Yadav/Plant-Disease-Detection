{
 "cells": [
  {
   "cell_type": "code",
   "execution_count": 6,
   "id": "8c1f47e2",
   "metadata": {},
   "outputs": [],
   "source": [
    "#import matplotlib.pyplot as plt\n",
    "import numpy as np\n",
    "#import cv2\n",
    "import os\n",
    "#import PIL\n",
    "import tensorflow as tf\n",
    "\n",
    "from tensorflow import keras"
   ]
  },
  {
   "cell_type": "code",
   "execution_count": 7,
   "id": "377fb956",
   "metadata": {},
   "outputs": [],
   "source": [
    "from tensorflow.keras import models, layers"
   ]
  },
  {
   "cell_type": "code",
   "execution_count": 8,
   "id": "22623e59",
   "metadata": {},
   "outputs": [
    {
     "data": {
      "text/plain": [
       "'2.8.3'"
      ]
     },
     "execution_count": 8,
     "metadata": {},
     "output_type": "execute_result"
    }
   ],
   "source": [
    "tf.__version__"
   ]
  },
  {
   "cell_type": "code",
   "execution_count": 9,
   "id": "eabdb2b6",
   "metadata": {},
   "outputs": [],
   "source": [
    "#img = 256 x 256\n",
    "#batch 32 "
   ]
  },
  {
   "cell_type": "code",
   "execution_count": 10,
   "id": "e58ea327",
   "metadata": {},
   "outputs": [
    {
     "name": "stdout",
     "output_type": "stream",
     "text": [
      "Found 7771 files belonging to 4 classes.\n"
     ]
    }
   ],
   "source": [
    "dataset = tf.keras.preprocessing.image_dataset_from_directory(\n",
    "    \"dataset/PlantDiseasesDataset/train\",\n",
    "    shuffle=True,\n",
    "    image_size=(256,256),\n",
    "    batch_size= 32\n",
    ")"
   ]
  },
  {
   "cell_type": "code",
   "execution_count": 11,
   "id": "26a70221",
   "metadata": {},
   "outputs": [
    {
     "data": {
      "text/plain": [
       "['Apple___Apple_scab',\n",
       " 'Apple___Black_rot',\n",
       " 'Apple___Cedar_apple_rust',\n",
       " 'Apple___healthy']"
      ]
     },
     "execution_count": 11,
     "metadata": {},
     "output_type": "execute_result"
    }
   ],
   "source": [
    "className = dataset.class_names\n",
    "className"
   ]
  },
  {
   "cell_type": "code",
   "execution_count": 12,
   "id": "bb283919",
   "metadata": {
    "scrolled": true
   },
   "outputs": [
    {
     "data": {
      "text/plain": [
       "243"
      ]
     },
     "execution_count": 12,
     "metadata": {},
     "output_type": "execute_result"
    }
   ],
   "source": [
    "len(dataset)"
   ]
  },
  {
   "cell_type": "code",
   "execution_count": 13,
   "id": "447a52e7",
   "metadata": {},
   "outputs": [
    {
     "name": "stdout",
     "output_type": "stream",
     "text": [
      "(32, 256, 256, 3)\n",
      "[3 1 3 0 0 0 2 2 3 3 0 3 2 1 3 1 2 1 0 3 2 1 1 0 3 3 3 1 1 3 0 0]\n"
     ]
    }
   ],
   "source": [
    "for imgBatch, lableBatch in dataset.take(1):\n",
    "    print(imgBatch.shape)\n",
    "    print(lableBatch.numpy())"
   ]
  },
  {
   "cell_type": "code",
   "execution_count": 14,
   "id": "2a968874",
   "metadata": {},
   "outputs": [
    {
     "name": "stdout",
     "output_type": "stream",
     "text": [
      "tf.Tensor(\n",
      "[[[ 98.  99. 117.]\n",
      "  [ 93.  94. 112.]\n",
      "  [ 96.  97. 115.]\n",
      "  ...\n",
      "  [138. 140. 155.]\n",
      "  [145. 146. 164.]\n",
      "  [150. 151. 169.]]\n",
      "\n",
      " [[ 96.  97. 115.]\n",
      "  [ 93.  94. 112.]\n",
      "  [ 91.  92. 110.]\n",
      "  ...\n",
      "  [138. 140. 155.]\n",
      "  [144. 145. 163.]\n",
      "  [148. 149. 167.]]\n",
      "\n",
      " [[ 91.  92. 110.]\n",
      "  [ 93.  94. 112.]\n",
      "  [ 83.  84. 102.]\n",
      "  ...\n",
      "  [134. 137. 152.]\n",
      "  [139. 141. 156.]\n",
      "  [143. 145. 160.]]\n",
      "\n",
      " ...\n",
      "\n",
      " [[ 44.  39.  46.]\n",
      "  [ 41.  36.  43.]\n",
      "  [ 36.  31.  38.]\n",
      "  ...\n",
      "  [111. 114. 133.]\n",
      "  [111. 114. 133.]\n",
      "  [111. 114. 133.]]\n",
      "\n",
      " [[ 44.  39.  46.]\n",
      "  [ 39.  34.  41.]\n",
      "  [ 34.  29.  36.]\n",
      "  ...\n",
      "  [108. 111. 130.]\n",
      "  [107. 110. 129.]\n",
      "  [107. 110. 129.]]\n",
      "\n",
      " [[ 40.  35.  42.]\n",
      "  [ 36.  31.  38.]\n",
      "  [ 32.  27.  34.]\n",
      "  ...\n",
      "  [104. 107. 126.]\n",
      "  [104. 107. 126.]\n",
      "  [103. 106. 125.]]], shape=(256, 256, 3), dtype=float32)\n",
      "[[[ 98.  99. 117.]\n",
      "  [ 93.  94. 112.]\n",
      "  [ 96.  97. 115.]\n",
      "  ...\n",
      "  [138. 140. 155.]\n",
      "  [145. 146. 164.]\n",
      "  [150. 151. 169.]]\n",
      "\n",
      " [[ 96.  97. 115.]\n",
      "  [ 93.  94. 112.]\n",
      "  [ 91.  92. 110.]\n",
      "  ...\n",
      "  [138. 140. 155.]\n",
      "  [144. 145. 163.]\n",
      "  [148. 149. 167.]]\n",
      "\n",
      " [[ 91.  92. 110.]\n",
      "  [ 93.  94. 112.]\n",
      "  [ 83.  84. 102.]\n",
      "  ...\n",
      "  [134. 137. 152.]\n",
      "  [139. 141. 156.]\n",
      "  [143. 145. 160.]]\n",
      "\n",
      " ...\n",
      "\n",
      " [[ 44.  39.  46.]\n",
      "  [ 41.  36.  43.]\n",
      "  [ 36.  31.  38.]\n",
      "  ...\n",
      "  [111. 114. 133.]\n",
      "  [111. 114. 133.]\n",
      "  [111. 114. 133.]]\n",
      "\n",
      " [[ 44.  39.  46.]\n",
      "  [ 39.  34.  41.]\n",
      "  [ 34.  29.  36.]\n",
      "  ...\n",
      "  [108. 111. 130.]\n",
      "  [107. 110. 129.]\n",
      "  [107. 110. 129.]]\n",
      "\n",
      " [[ 40.  35.  42.]\n",
      "  [ 36.  31.  38.]\n",
      "  [ 32.  27.  34.]\n",
      "  ...\n",
      "  [104. 107. 126.]\n",
      "  [104. 107. 126.]\n",
      "  [103. 106. 125.]]]\n",
      "(256, 256, 3)\n"
     ]
    }
   ],
   "source": [
    "for imgBatch, lableBatch in dataset.take(1):\n",
    "    print(imgBatch[0])\n",
    "    print(imgBatch[0].numpy())\n",
    "    print(imgBatch[0].shape)"
   ]
  },
  {
   "cell_type": "code",
   "execution_count": 15,
   "id": "9a8d6c77",
   "metadata": {},
   "outputs": [],
   "source": [
    "trainDataset = dataset"
   ]
  },
  {
   "cell_type": "code",
   "execution_count": 16,
   "id": "d7bd66b0",
   "metadata": {},
   "outputs": [
    {
     "data": {
      "text/plain": [
       "243"
      ]
     },
     "execution_count": 16,
     "metadata": {},
     "output_type": "execute_result"
    }
   ],
   "source": [
    "len(trainDataset)"
   ]
  },
  {
   "cell_type": "code",
   "execution_count": null,
   "id": "68c51f15",
   "metadata": {},
   "outputs": [],
   "source": []
  },
  {
   "cell_type": "code",
   "execution_count": 17,
   "id": "02088415",
   "metadata": {},
   "outputs": [
    {
     "name": "stdout",
     "output_type": "stream",
     "text": [
      "Found 1943 files belonging to 4 classes.\n"
     ]
    }
   ],
   "source": [
    "dataset1 = tf.keras.preprocessing.image_dataset_from_directory(\n",
    "    \"dataset/PlantDiseasesDataset/valid\",\n",
    "    shuffle=True,\n",
    "    image_size=(256,256),\n",
    "    batch_size= 32\n",
    ")"
   ]
  },
  {
   "cell_type": "code",
   "execution_count": 18,
   "id": "1b1d9033",
   "metadata": {},
   "outputs": [
    {
     "data": {
      "text/plain": [
       "61"
      ]
     },
     "execution_count": 18,
     "metadata": {},
     "output_type": "execute_result"
    }
   ],
   "source": [
    "len(dataset1)"
   ]
  },
  {
   "cell_type": "code",
   "execution_count": 19,
   "id": "fcbdc884",
   "metadata": {},
   "outputs": [
    {
     "data": {
      "text/plain": [
       "['Apple___Apple_scab',\n",
       " 'Apple___Black_rot',\n",
       " 'Apple___Cedar_apple_rust',\n",
       " 'Apple___healthy']"
      ]
     },
     "execution_count": 19,
     "metadata": {},
     "output_type": "execute_result"
    }
   ],
   "source": [
    "className1 = dataset1.class_names\n",
    "className1"
   ]
  },
  {
   "cell_type": "code",
   "execution_count": 20,
   "id": "d8b60dee",
   "metadata": {},
   "outputs": [
    {
     "data": {
      "text/plain": [
       "61"
      ]
     },
     "execution_count": 20,
     "metadata": {},
     "output_type": "execute_result"
    }
   ],
   "source": [
    "len(dataset1)"
   ]
  },
  {
   "cell_type": "code",
   "execution_count": 21,
   "id": "542764eb",
   "metadata": {},
   "outputs": [],
   "source": [
    "validDataset = dataset1"
   ]
  },
  {
   "cell_type": "code",
   "execution_count": null,
   "id": "b2c16b1a",
   "metadata": {},
   "outputs": [],
   "source": []
  },
  {
   "cell_type": "code",
   "execution_count": 22,
   "id": "a78601a5",
   "metadata": {},
   "outputs": [
    {
     "name": "stdout",
     "output_type": "stream",
     "text": [
      "Found 7 files belonging to 1 classes.\n"
     ]
    }
   ],
   "source": [
    "dataset2 = tf.keras.preprocessing.image_dataset_from_directory(\n",
    "    \"dataset/test\",\n",
    "    shuffle=True,\n",
    "    image_size=(256,256),\n",
    "    batch_size= 32\n",
    ")"
   ]
  },
  {
   "cell_type": "code",
   "execution_count": 23,
   "id": "9cca5f40",
   "metadata": {},
   "outputs": [
    {
     "data": {
      "text/plain": [
       "1"
      ]
     },
     "execution_count": 23,
     "metadata": {},
     "output_type": "execute_result"
    }
   ],
   "source": [
    "len(dataset2)"
   ]
  },
  {
   "cell_type": "code",
   "execution_count": 24,
   "id": "e2a9bb60",
   "metadata": {},
   "outputs": [
    {
     "data": {
      "text/plain": [
       "['test']"
      ]
     },
     "execution_count": 24,
     "metadata": {},
     "output_type": "execute_result"
    }
   ],
   "source": [
    "className2 = dataset2.class_names\n",
    "className2"
   ]
  },
  {
   "cell_type": "code",
   "execution_count": 25,
   "id": "008b207b",
   "metadata": {},
   "outputs": [
    {
     "data": {
      "text/plain": [
       "1"
      ]
     },
     "execution_count": 25,
     "metadata": {},
     "output_type": "execute_result"
    }
   ],
   "source": [
    "len(dataset2)"
   ]
  },
  {
   "cell_type": "code",
   "execution_count": 26,
   "id": "a5c5ace9",
   "metadata": {},
   "outputs": [],
   "source": [
    "testDataset = dataset2"
   ]
  },
  {
   "cell_type": "code",
   "execution_count": null,
   "id": "13eb4a64",
   "metadata": {},
   "outputs": [],
   "source": []
  },
  {
   "cell_type": "code",
   "execution_count": 27,
   "id": "9fabcec8",
   "metadata": {},
   "outputs": [],
   "source": [
    "trainDataset = trainDataset.cache().shuffle(1000).prefetch(buffer_size=tf.data.AUTOTUNE)\n",
    "validDataset = validDataset.cache().shuffle(1000).prefetch(buffer_size=tf.data.AUTOTUNE)\n",
    "testDataset = testDataset.cache().shuffle(1000).prefetch(buffer_size=tf.data.AUTOTUNE)"
   ]
  },
  {
   "cell_type": "code",
   "execution_count": null,
   "id": "39416a90",
   "metadata": {},
   "outputs": [],
   "source": []
  },
  {
   "cell_type": "code",
   "execution_count": 28,
   "id": "cd8fdd7d",
   "metadata": {},
   "outputs": [],
   "source": [
    "resize_rescale = tf.keras.Sequential([\n",
    "        \n",
    "    layers.experimental.preprocessing.Resizing(256,256),\n",
    "    layers.experimental.preprocessing.Rescaling(1.0/255),   \n",
    "])"
   ]
  },
  {
   "cell_type": "code",
   "execution_count": 40,
   "id": "7e9542b9",
   "metadata": {},
   "outputs": [],
   "source": [
    "data_augmentation = tf.keras.Sequential([\n",
    "    layers.experimental.preprocessing.RandomFlip(\"horizontal_and_vertical\"),\n",
    "    layers.experimental.preprocessing.RandomRotation(0.3),\n",
    "])"
   ]
  },
  {
   "cell_type": "code",
   "execution_count": 41,
   "id": "e2912454",
   "metadata": {},
   "outputs": [],
   "source": [
    "trainDataset = trainDataset.map(\n",
    "    lambda x, y: (data_augmentation(x, training=True), y)\n",
    ").prefetch(buffer_size=tf.data.AUTOTUNE)"
   ]
  },
  {
   "cell_type": "code",
   "execution_count": 42,
   "id": "8b30898e",
   "metadata": {},
   "outputs": [],
   "source": [
    "from tensorflow.keras.callbacks import EarlyStopping, ReduceLROnPlateau"
   ]
  },
  {
   "cell_type": "code",
   "execution_count": 43,
   "id": "8282153c",
   "metadata": {},
   "outputs": [],
   "source": [
    "early_stopping = EarlyStopping(monitor='val_loss', patience=10, restore_best_weights=True)\n",
    "reduce_lr = ReduceLROnPlateau(monitor='val_loss', factor=0.2, patience=5, min_lr=1e-7)\n"
   ]
  },
  {
   "cell_type": "code",
   "execution_count": 53,
   "id": "2d28c30c",
   "metadata": {},
   "outputs": [],
   "source": [
    "\n",
    "model = models.Sequential([\n",
    "      layers.Conv2D(32, (3, 3), activation='relu', input_shape=(256, 256, 3)),\n",
    "    layers.MaxPooling2D((2, 2)),\n",
    "    layers.Conv2D(64, (3, 3), activation='relu'),\n",
    "    layers.MaxPooling2D((2, 2)),\n",
    "    layers.Conv2D(128, (3, 3), activation='relu'),\n",
    "    layers.MaxPooling2D((2, 2)),\n",
    "    \n",
    "    # Flatten layer to transition from convolutional to fully connected layers\n",
    "    layers.Flatten(),\n",
    "    \n",
    "    # Fully connected layers\n",
    "    layers.Dense(128, activation='relu'),\n",
    "    layers.Dropout(0.5),  # Dropout for regularization\n",
    "    layers.Dense(64, activation='relu'),\n",
    "    \n",
    "    # Output layer with softmax activation for classification\n",
    "    layers.Dense(4, activation='softmax')\n",
    "])\n"
   ]
  },
  {
   "cell_type": "code",
   "execution_count": null,
   "id": "a6c0a6f5",
   "metadata": {},
   "outputs": [],
   "source": []
  },
  {
   "cell_type": "code",
   "execution_count": null,
   "id": "c25769f1",
   "metadata": {},
   "outputs": [],
   "source": []
  },
  {
   "cell_type": "code",
   "execution_count": 54,
   "id": "4c31c7c2",
   "metadata": {
    "scrolled": true
   },
   "outputs": [],
   "source": [
    "model.build((32,256, 256, 3))"
   ]
  },
  {
   "cell_type": "code",
   "execution_count": 55,
   "id": "bbae0a30",
   "metadata": {},
   "outputs": [
    {
     "name": "stdout",
     "output_type": "stream",
     "text": [
      "Model: \"sequential_5\"\n",
      "_________________________________________________________________\n",
      " Layer (type)                Output Shape              Param #   \n",
      "=================================================================\n",
      " conv2d_16 (Conv2D)          (None, 254, 254, 32)      896       \n",
      "                                                                 \n",
      " max_pooling2d_16 (MaxPoolin  (None, 127, 127, 32)     0         \n",
      " g2D)                                                            \n",
      "                                                                 \n",
      " conv2d_17 (Conv2D)          (None, 125, 125, 64)      18496     \n",
      "                                                                 \n",
      " max_pooling2d_17 (MaxPoolin  (None, 62, 62, 64)       0         \n",
      " g2D)                                                            \n",
      "                                                                 \n",
      " conv2d_18 (Conv2D)          (None, 60, 60, 128)       73856     \n",
      "                                                                 \n",
      " max_pooling2d_18 (MaxPoolin  (None, 30, 30, 128)      0         \n",
      " g2D)                                                            \n",
      "                                                                 \n",
      " flatten_3 (Flatten)         (None, 115200)            0         \n",
      "                                                                 \n",
      " dense_5 (Dense)             (None, 128)               14745728  \n",
      "                                                                 \n",
      " dropout (Dropout)           (None, 128)               0         \n",
      "                                                                 \n",
      " dense_6 (Dense)             (None, 64)                8256      \n",
      "                                                                 \n",
      " dense_7 (Dense)             (None, 4)                 260       \n",
      "                                                                 \n",
      "=================================================================\n",
      "Total params: 14,847,492\n",
      "Trainable params: 14,847,492\n",
      "Non-trainable params: 0\n",
      "_________________________________________________________________\n"
     ]
    }
   ],
   "source": [
    "model.summary()"
   ]
  },
  {
   "cell_type": "code",
   "execution_count": 56,
   "id": "651b8a9f",
   "metadata": {},
   "outputs": [],
   "source": [
    "model.compile(\n",
    "    optimizer='adam',\n",
    "    loss=tf.keras.losses.SparseCategoricalCrossentropy(from_logits=False),\n",
    "    metrics=['accuracy']\n",
    ")"
   ]
  },
  {
   "cell_type": "code",
   "execution_count": 57,
   "id": "0594b984",
   "metadata": {},
   "outputs": [
    {
     "name": "stdout",
     "output_type": "stream",
     "text": [
      "Epoch 1/20\n",
      "243/243 [==============================] - 90s 364ms/step - loss: 5.3529 - accuracy: 0.4693 - val_loss: 1.5103 - val_accuracy: 0.4678 - lr: 0.0010\n",
      "Epoch 2/20\n",
      "243/243 [==============================] - 87s 358ms/step - loss: 1.0224 - accuracy: 0.6196 - val_loss: 1.1428 - val_accuracy: 0.5389 - lr: 0.0010\n",
      "Epoch 3/20\n",
      "243/243 [==============================] - 88s 359ms/step - loss: 1.0265 - accuracy: 0.5548 - val_loss: 2.1998 - val_accuracy: 0.6351 - lr: 0.0010\n",
      "Epoch 4/20\n",
      "243/243 [==============================] - 87s 356ms/step - loss: 0.7968 - accuracy: 0.6919 - val_loss: 0.9180 - val_accuracy: 0.7241 - lr: 0.0010\n",
      "Epoch 5/20\n",
      "243/243 [==============================] - 89s 365ms/step - loss: 0.6275 - accuracy: 0.7617 - val_loss: 0.9459 - val_accuracy: 0.7370 - lr: 0.0010\n",
      "Epoch 6/20\n",
      "243/243 [==============================] - 88s 362ms/step - loss: 0.5236 - accuracy: 0.8115 - val_loss: 0.8103 - val_accuracy: 0.7823 - lr: 0.0010\n",
      "Epoch 7/20\n",
      "243/243 [==============================] - 88s 363ms/step - loss: 0.4291 - accuracy: 0.8427 - val_loss: 1.0467 - val_accuracy: 0.7576 - lr: 0.0010\n",
      "Epoch 8/20\n",
      "243/243 [==============================] - 88s 363ms/step - loss: 0.4430 - accuracy: 0.8406 - val_loss: 0.6925 - val_accuracy: 0.7957 - lr: 0.0010\n",
      "Epoch 9/20\n",
      "243/243 [==============================] - 88s 359ms/step - loss: 0.3521 - accuracy: 0.8749 - val_loss: 0.6823 - val_accuracy: 0.8245 - lr: 0.0010\n",
      "Epoch 10/20\n",
      "243/243 [==============================] - 86s 351ms/step - loss: 0.3143 - accuracy: 0.8870 - val_loss: 1.1775 - val_accuracy: 0.7478 - lr: 0.0010\n",
      "Epoch 11/20\n",
      "243/243 [==============================] - 85s 347ms/step - loss: 0.2529 - accuracy: 0.9079 - val_loss: 0.6870 - val_accuracy: 0.8574 - lr: 0.0010\n",
      "Epoch 12/20\n",
      "243/243 [==============================] - 84s 342ms/step - loss: 0.2180 - accuracy: 0.9225 - val_loss: 0.5001 - val_accuracy: 0.8863 - lr: 0.0010\n",
      "Epoch 13/20\n",
      "243/243 [==============================] - 86s 354ms/step - loss: 0.1844 - accuracy: 0.9355 - val_loss: 0.4139 - val_accuracy: 0.8955 - lr: 0.0010\n",
      "Epoch 14/20\n",
      "243/243 [==============================] - 89s 363ms/step - loss: 0.1785 - accuracy: 0.9389 - val_loss: 0.2875 - val_accuracy: 0.9053 - lr: 0.0010\n",
      "Epoch 15/20\n",
      "243/243 [==============================] - 86s 353ms/step - loss: 0.1520 - accuracy: 0.9479 - val_loss: 0.4954 - val_accuracy: 0.8950 - lr: 0.0010\n",
      "Epoch 16/20\n",
      "243/243 [==============================] - 85s 348ms/step - loss: 0.1931 - accuracy: 0.9413 - val_loss: 0.6322 - val_accuracy: 0.8559 - lr: 0.0010\n",
      "Epoch 17/20\n",
      "243/243 [==============================] - 86s 351ms/step - loss: 0.1571 - accuracy: 0.9470 - val_loss: 0.3687 - val_accuracy: 0.9079 - lr: 0.0010\n",
      "Epoch 18/20\n",
      "243/243 [==============================] - 88s 359ms/step - loss: 0.1431 - accuracy: 0.9543 - val_loss: 0.2579 - val_accuracy: 0.9290 - lr: 0.0010\n",
      "Epoch 19/20\n",
      "243/243 [==============================] - 86s 352ms/step - loss: 0.1427 - accuracy: 0.9546 - val_loss: 0.3419 - val_accuracy: 0.9027 - lr: 0.0010\n",
      "Epoch 20/20\n",
      "243/243 [==============================] - 85s 348ms/step - loss: 0.1069 - accuracy: 0.9611 - val_loss: 0.2704 - val_accuracy: 0.9264 - lr: 0.0010\n"
     ]
    }
   ],
   "source": [
    "history = model.fit(\n",
    "    trainDataset,\n",
    "    batch_size=32,\n",
    "    validation_data=validDataset,\n",
    "    verbose=1,\n",
    "    epochs=20,\n",
    "    callbacks=[early_stopping, reduce_lr],\n",
    ")"
   ]
  },
  {
   "cell_type": "code",
   "execution_count": 58,
   "id": "578025b5",
   "metadata": {},
   "outputs": [
    {
     "name": "stdout",
     "output_type": "stream",
     "text": [
      "1/1 [==============================] - 0s 165ms/step - loss: 7.5193 - accuracy: 0.4286\n"
     ]
    }
   ],
   "source": [
    "scores = model.evaluate(testDataset)"
   ]
  },
  {
   "cell_type": "code",
   "execution_count": 59,
   "id": "a09e687d",
   "metadata": {},
   "outputs": [
    {
     "data": {
      "text/plain": [
       "[7.519264221191406, 0.4285714328289032]"
      ]
     },
     "execution_count": 59,
     "metadata": {},
     "output_type": "execute_result"
    }
   ],
   "source": [
    "scores\n"
   ]
  },
  {
   "cell_type": "code",
   "execution_count": null,
   "id": "e1a8f7e0",
   "metadata": {},
   "outputs": [],
   "source": []
  }
 ],
 "metadata": {
  "kernelspec": {
   "display_name": "Python 3 (ipykernel)",
   "language": "python",
   "name": "python3"
  },
  "language_info": {
   "codemirror_mode": {
    "name": "ipython",
    "version": 3
   },
   "file_extension": ".py",
   "mimetype": "text/x-python",
   "name": "python",
   "nbconvert_exporter": "python",
   "pygments_lexer": "ipython3",
   "version": "3.10.13"
  }
 },
 "nbformat": 4,
 "nbformat_minor": 5
}
